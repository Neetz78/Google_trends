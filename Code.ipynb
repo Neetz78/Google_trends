{
 "cells": [
  {
   "cell_type": "code",
   "execution_count": null,
   "id": "1d2ab741-8f1a-405b-ba83-69c674476a91",
   "metadata": {},
   "outputs": [],
   "source": [
    "# importing required libraries\n",
    "\n",
    "from pytrends.request import TrendReq\n",
    "import plotly.express as px \n",
    "import time\n",
    "from datetime import datetime\n",
    "\n",
    "#Creating an instance \n",
    "\n",
    "pytrends = TrendReq(hl='en-US', tz=360)\n",
    "\n",
    "\n",
    "# to retrieve \n",
    "def get_google_trends(keyword=['']):\n",
    "    list = keyword \n",
    "    cat = 0\n",
    "    timeframe = 'today 5-y'\n",
    "    try:\n",
    "        pytrends.build_payload(list,cat, geo, timeframe)\n",
    "        # get time series\n",
    "        data = pytrends.interest_over_time()\n",
    "        data = data.reset_index()\n",
    "        data = data.drop('isPartial', axis=1)\n",
    "    except:\n",
    "        print(f\"Category {cat} does not exist or keyword {list[0]} has no time series\")\n",
    "        return [''], [''], ['']\n",
    "    return data\n",
    "    \n",
    "def get_remaining_weekly_data(keyword=['']):\n",
    "    list = keyword\n",
    "    cat = 0 \n",
    "    geo = 'CA'\n",
    "    timeframe = '2015-01-01 2018-01-01'\n",
    "    try:\n",
    "        pytrends.build_payload(list,cat, timeframe, geo)\n",
    "        data = pytrends.interest_over_time()\n",
    "        data = data.reset_index()\n",
    "        data = data.drop('isPartial', axis=1)\n",
    "    except:\n",
    "        print(f\"Category {cat} does not exist or keyword {list[0]} has no time series\")\n",
    "        return [''], [''], ['']\n",
    "    \n",
    "    return data\n",
    "\n",
    "def final_weekly_data():\n",
    "    \n",
    "#     list = ['bitcoin']\n",
    "    \n",
    "    #getting the first five years of weekly data from present to 2017\n",
    "    five_years_data = get_google_trends(['bitcoin'])\n",
    "    \n",
    "    #retrieving the next two more years of weekly data from 2015-2017\n",
    "    old_data = get_remaining_weekly_data(['bitcoin'])\n",
    "    \n",
    "    #appending both the data \n",
    "    final = old_data.append(five_years_data)\n",
    "    \n",
    "    #finding the overlapping rows\n",
    "    dups = final['date'].duplicated()\n",
    "    \n",
    "    ##removing the duplicated rows and forming the final data set.\n",
    "    final = final[-dups]\n",
    "    \n",
    "    return final\n",
    "\n",
    "def get_daily_data(keyword=['']):\n",
    "    list = keyword\n",
    "    cat = 0\n",
    "#     geo = 'CA'\n",
    "    newdata = pytrends.get_historical_interest(list, year_start=2015, month_start=1, day_start=1, hour_start=0, \n",
    "                                 year_end=2022, month_end=8, day_end=31, hour_end=0,cat=0, sleep=0)\n",
    "    newdata = newdata.reset_index()\n",
    "    newdata = newdata.drop('isPartial', axis=1)\n",
    "    newdata['Year'] = newdata['date'].dt.date\n",
    "    return newdata\n",
    "    "
   ]
  },
  {
   "cell_type": "code",
   "execution_count": null,
   "id": "d75148e2-65db-4940-983e-8149242eccf1",
   "metadata": {},
   "outputs": [],
   "source": [
    "data = final_weekly_data()\n",
    "fig = px.line(data, x=\"date\", y=['bitcoin'], title='Keyword Web Search Interest Over Time') \n",
    "fig.show()"
   ]
  },
  {
   "cell_type": "code",
   "execution_count": null,
   "id": "8a011d47-48b0-4a38-8afc-a544ba6c34cc",
   "metadata": {
    "scrolled": true,
    "tags": []
   },
   "outputs": [],
   "source": [
    "daily = get_daily_data(['bitcoin'])"
   ]
  },
  {
   "cell_type": "code",
   "execution_count": null,
   "id": "8b2539a6-711b-4f81-a140-6c315f44bd15",
   "metadata": {},
   "outputs": [],
   "source": []
  }
 ],
 "metadata": {
  "kernelspec": {
   "display_name": "Python 3 (ipykernel)",
   "language": "python",
   "name": "python3"
  },
  "language_info": {
   "codemirror_mode": {
    "name": "ipython",
    "version": 3
   },
   "file_extension": ".py",
   "mimetype": "text/x-python",
   "name": "python",
   "nbconvert_exporter": "python",
   "pygments_lexer": "ipython3",
   "version": "3.9.10"
  }
 },
 "nbformat": 4,
 "nbformat_minor": 5
}
